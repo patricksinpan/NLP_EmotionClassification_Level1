{
 "cells": [
  {
   "cell_type": "markdown",
   "id": "06cd981e",
   "metadata": {},
   "source": [
    "# Emotion Classification Notebook"
   ]
  },
  {
   "cell_type": "code",
   "execution_count": 1,
   "id": "8028fabc",
   "metadata": {},
   "outputs": [],
   "source": [
    "\n",
    "import pandas as pd\n",
    "from sklearn.model_selection import train_test_split\n",
    "from sklearn.feature_extraction.text import TfidfVectorizer\n",
    "from sklearn.linear_model import LogisticRegression\n",
    "from sklearn.metrics import classification_report, confusion_matrix\n",
    "import seaborn as sns\n",
    "import matplotlib.pyplot as plt\n"
   ]
  },
  {
   "cell_type": "code",
   "execution_count": 51,
   "id": "9fb9a297",
   "metadata": {},
   "outputs": [
    {
     "name": "stdout",
     "output_type": "stream",
     "text": [
      "                                                text emotion\n",
      "0  That really pissed me off. This is completely ...   anger\n",
      "1  I'm scared of what will happen. I'm terrified ...    fear\n",
      "2                   This situation makes me nervous.    fear\n",
      "3  This is completely unacceptable. This is compl...   anger\n",
      "4  I adore everything about you. I love you so much.    love\n"
     ]
    }
   ],
   "source": [
    "\n",
    "# Load data\n",
    "df = pd.read_csv(\"emotions.csv\")\n",
    "print(df.head())\n"
   ]
  },
  {
   "cell_type": "code",
   "execution_count": 59,
   "id": "42cebcb3",
   "metadata": {},
   "outputs": [],
   "source": [
    "\n",
    "# Split\n",
    "X_train, X_test, y_train, y_test = train_test_split(df['text'], df['emotion'], test_size=0.2)\n"
   ]
  },
  {
   "cell_type": "code",
   "execution_count": 60,
   "id": "bd1d7e6f",
   "metadata": {},
   "outputs": [],
   "source": [
    "\n",
    "# Vectorize\n",
    "tfidf = TfidfVectorizer()\n",
    "X_train_vec = tfidf.fit_transform(X_train)\n",
    "X_test_vec = tfidf.transform(X_test)\n"
   ]
  },
  {
   "cell_type": "code",
   "execution_count": 61,
   "id": "4c852368",
   "metadata": {},
   "outputs": [
    {
     "data": {
      "text/plain": [
       "LogisticRegression(max_iter=1000)"
      ]
     },
     "execution_count": 61,
     "metadata": {},
     "output_type": "execute_result"
    }
   ],
   "source": [
    "\n",
    "# Train model\n",
    "clf = LogisticRegression(max_iter=1000)\n",
    "clf.fit(X_train_vec, y_train)\n"
   ]
  },
  {
   "cell_type": "code",
   "execution_count": 62,
   "id": "0d0dd466",
   "metadata": {},
   "outputs": [],
   "source": [
    "\n",
    "# Predict\n",
    "y_pred = clf.predict(X_test_vec)\n"
   ]
  },
  {
   "cell_type": "code",
   "execution_count": 63,
   "id": "64434ac5",
   "metadata": {},
   "outputs": [
    {
     "name": "stdout",
     "output_type": "stream",
     "text": [
      "              precision    recall  f1-score   support\n",
      "\n",
      "       anger       1.00      1.00      1.00        23\n",
      "        fear       1.00      1.00      1.00        21\n",
      "         joy       1.00      1.00      1.00        21\n",
      "        love       1.00      1.00      1.00        17\n",
      "     sadness       1.00      1.00      1.00        28\n",
      "    surprise       1.00      1.00      1.00        10\n",
      "\n",
      "    accuracy                           1.00       120\n",
      "   macro avg       1.00      1.00      1.00       120\n",
      "weighted avg       1.00      1.00      1.00       120\n",
      "\n"
     ]
    }
   ],
   "source": [
    "\n",
    "# Report\n",
    "print(classification_report(y_test, y_pred))\n"
   ]
  },
  {
   "cell_type": "code",
   "execution_count": 64,
   "id": "b9afb911",
   "metadata": {},
   "outputs": [
    {
     "data": {
      "image/png": "[encoded data removed]",
      "text/plain": [
       "<Figure size 432x288 with 2 Axes>"
      ]
     },
     "metadata": {
      "needs_background": "light"
     },
     "output_type": "display_data"
    }
   ],
   "source": [
    "\n",
    "# Confusion Matrix\n",
    "cm = confusion_matrix(y_test, y_pred, labels=clf.classes_)\n",
    "sns.heatmap(cm, annot=True, xticklabels=clf.classes_, yticklabels=clf.classes_, cmap=\"Blues\")\n",
    "plt.xlabel(\"Predicted\")\n",
    "plt.ylabel(\"Actual\")\n",
    "plt.title(\"Confusion Matrix\")\n",
    "plt.show()\n"
   ]
  },
  {
   "cell_type": "code",
   "execution_count": 73,
   "id": "e7b07a56",
   "metadata": {},
   "outputs": [
    {
     "name": "stdout",
     "output_type": "stream",
     "text": [
      "surprise\n",
      "fear\n",
      "anger\n",
      "love\n",
      "sadness\n",
      "joy\n"
     ]
    }
   ],
   "source": [
    "\n",
    "# Try custom input\n",
    "def predict_emotion(text):\n",
    "    vec = tfidf.transform([text])\n",
    "    return clf.predict(vec)[0]\n",
    "\n",
    "print(predict_emotion(\"I can go to Mars!\"))\n",
    "print(predict_emotion(\"I'm scared of the dark.\"))\n",
    "print(predict_emotion(\"Piss off.\"))\n",
    "print(predict_emotion(\"You love me.\"))\n",
    "print(predict_emotion(\"Can I cry?\"))\n",
    "print(predict_emotion(\"Everyone is smiling\"))"
   ]
  },
  {
   "cell_type": "code",
   "execution_count": null,
   "id": "22a6bb92",
   "metadata": {},
   "outputs": [],
   "source": []
  }
 ],
 "metadata": {
  "kernelspec": {
   "display_name": "Python 3 (ipykernel)",
   "language": "python",
   "name": "python3"
  },
  "language_info": {
   "codemirror_mode": {
    "name": "ipython",
    "version": 3
   },
   "file_extension": ".py",
   "mimetype": "text/x-python",
   "name": "python",
   "nbconvert_exporter": "python",
   "pygments_lexer": "ipython3",
   "version": "3.9.12"
  }
 },
 "nbformat": 4,
 "nbformat_minor": 5
}
